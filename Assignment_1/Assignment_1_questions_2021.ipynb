{
 "cells": [
  {
   "cell_type": "markdown",
   "metadata": {},
   "source": [
    "### Chapter 1"
   ]
  },
  {
   "cell_type": "markdown",
   "metadata": {},
   "source": [
    "#### You should install NLTK, import NlTK and download the NLTK Book Collection at the beginning."
   ]
  },
  {
   "cell_type": "code",
   "execution_count": 2,
   "metadata": {},
   "outputs": [],
   "source": [
    "import nltk"
   ]
  },
  {
   "cell_type": "code",
   "execution_count": 62,
   "metadata": {},
   "outputs": [
    {
     "name": "stdout",
     "output_type": "stream",
     "text": [
      "*** Introductory Examples for the NLTK Book ***\n",
      "Loading text1, ..., text9 and sent1, ..., sent9\n",
      "Type the name of the text or sentence to view it.\n",
      "Type: 'texts()' or 'sents()' to list the materials.\n",
      "text1: Moby Dick by Herman Melville 1851\n",
      "text2: Sense and Sensibility by Jane Austen 1811\n",
      "text3: The Book of Genesis\n",
      "text4: Inaugural Address Corpus\n",
      "text5: Chat Corpus\n",
      "text6: Monty Python and the Holy Grail\n",
      "text7: Wall Street Journal\n",
      "text8: Personals Corpus\n",
      "text9: The Man Who Was Thursday by G . K . Chesterton 1908\n"
     ]
    }
   ],
   "source": [
    "from nltk.book import *"
   ]
  },
  {
   "cell_type": "markdown",
   "metadata": {},
   "source": [
    "#### Question 1.1 Find the collocations in text2 from NLTK Book Collection"
   ]
  },
  {
   "cell_type": "code",
   "execution_count": 64,
   "metadata": {},
   "outputs": [
    {
     "name": "stdout",
     "output_type": "stream",
     "text": [
      "Colonel Brandon; Sir John; Lady Middleton; Miss Dashwood; every thing;\n",
      "thousand pounds; dare say; Miss Steeles; said Elinor; Miss Steele;\n",
      "every body; John Dashwood; great deal; Harley Street; Berkeley Street;\n",
      "Miss Dashwoods; young man; Combe Magna; every day; next morning\n"
     ]
    }
   ],
   "source": [
    "text2.collocations()"
   ]
  },
  {
   "cell_type": "markdown",
   "metadata": {},
   "source": [
    "#### Question 1.2 Review the discussion of conditionals in 4. Find all unique words in the Chat Corpus (text5) ending with the letter l. Show the first 20 words in alphabetical order."
   ]
  },
  {
   "cell_type": "code",
   "execution_count": 65,
   "metadata": {},
   "outputs": [
    {
     "data": {
      "text/plain": [
       "['al',\n",
       " 'alcohol',\n",
       " 'all',\n",
       " 'anal',\n",
       " 'angel',\n",
       " 'animal',\n",
       " 'anygirl',\n",
       " 'april',\n",
       " 'asl',\n",
       " 'astral',\n",
       " 'atl',\n",
       " 'bacl',\n",
       " 'bagel',\n",
       " 'ball',\n",
       " 'barrel',\n",
       " 'bbl',\n",
       " 'beautiful',\n",
       " 'bell',\n",
       " 'betrayal',\n",
       " 'bisexual']"
      ]
     },
     "execution_count": 65,
     "metadata": {},
     "output_type": "execute_result"
    }
   ],
   "source": [
    "l_end = sorted(item.lower() for item in set(text5) if item.endswith('l') and item.isalpha()) \n",
    "l_end[:20]"
   ]
  },
  {
   "cell_type": "markdown",
   "metadata": {},
   "source": [
    "#### Question 1.3 What is the difference between the following two lines of codes? Which one will give a larger value and why? Will this be the case for other texts?\n",
    "#### sorted(set(w.lower() for w in text2))\n",
    "#### sorted(w.lower() for w in set(text2))\n",
    "## ANSWER:\n",
    "#### The difference in these two lines of code is that the first uses the set function on the words once they become lower whereas the second uses the set() function on the whole text. The second line will yield more results because it is taking the set of all words in the text whether they are lower or not. This is the case for all texts because of where the set function is being placed, you are counting the unique words at different times before and after the .lower() function is being put to use. "
   ]
  },
  {
   "cell_type": "code",
   "execution_count": 30,
   "metadata": {
    "scrolled": false
   },
   "outputs": [
    {
     "data": {
      "text/plain": [
       "1855"
      ]
     },
     "execution_count": 30,
     "metadata": {},
     "output_type": "execute_result"
    }
   ],
   "source": [
    "len(sorted(set(w.lower() for w in text6)))"
   ]
  },
  {
   "cell_type": "code",
   "execution_count": 29,
   "metadata": {},
   "outputs": [
    {
     "data": {
      "text/plain": [
       "2166"
      ]
     },
     "execution_count": 29,
     "metadata": {},
     "output_type": "execute_result"
    }
   ],
   "source": [
    "len(sorted(w.lower() for w in set(text6)))"
   ]
  },
  {
   "cell_type": "markdown",
   "metadata": {},
   "source": [
    "#### Question 1.4 Find all the Twelve-letter words in the Chat Corpus (text5). With the help of a frequency distribution (FreqDist), show these words in decreasing order of frequency."
   ]
  },
  {
   "cell_type": "code",
   "execution_count": 99,
   "metadata": {
    "scrolled": false
   },
   "outputs": [
    {
     "data": {
      "text/plain": [
       "[('conversation', 5),\n",
       " ('construction', 3),\n",
       " ('entertaining', 3),\n",
       " ('multitasking', 2),\n",
       " ('Considerably', 1),\n",
       " ('ihavehotnips', 1),\n",
       " ('christianity', 1),\n",
       " ('oooooooooooo', 1),\n",
       " ('disappointed', 1),\n",
       " ('outrageously', 1),\n",
       " ('neighborhood', 1),\n",
       " ('thanksgiving', 1),\n",
       " ('interruption', 1),\n",
       " ('alternatives', 1),\n",
       " ('hugsssssssss', 1),\n",
       " ('butterscotch', 1),\n",
       " ('constituents', 1),\n",
       " ('subscription', 1),\n",
       " ('catastrophic', 1),\n",
       " ('Constitution', 1),\n",
       " ('Christianity', 1),\n",
       " ('freeeezinggg', 1),\n",
       " ('bachelorette', 1),\n",
       " ('hahahahahaha', 1),\n",
       " ('sweeeeeeeeet', 1),\n",
       " ('heyyyyyyyyyy', 1),\n",
       " ('masturbating', 1),\n",
       " ('yummylicious', 1),\n",
       " ('denomination', 1),\n",
       " ('registration', 1),\n",
       " ('necromancers', 1),\n",
       " ('psychologist', 1),\n",
       " ('descriminate', 1),\n",
       " ('slkfjsldkfjs', 1),\n",
       " ('passionately', 1),\n",
       " ('heartbreaker', 1),\n",
       " ('Connecticutt', 1),\n",
       " ('tooooooooooo', 1),\n",
       " ('periodically', 1),\n",
       " ('Fergalicious', 1),\n",
       " ('hhaaaaatttee', 1),\n",
       " ('Bloooooooood', 1)]"
      ]
     },
     "execution_count": 99,
     "metadata": {},
     "output_type": "execute_result"
    }
   ],
   "source": [
    "text_5_len_12 = FreqDist([w for w in text5 if w.isalpha() and len(w) == 12])\n",
    "fdist = FreqDist(text_5_len_12)\n",
    "fdist.most_common()"
   ]
  },
  {
   "cell_type": "markdown",
   "metadata": {},
   "source": [
    "### I am using fdist.most_common() here so that the results are printed each on a new line and you can see all of them. I could also just print out the frequency distribution but that would not list all results."
   ]
  },
  {
   "cell_type": "markdown",
   "metadata": {},
   "source": [
    "#### Question 1.5 Review the discussion of looping with conditions in Section 4 in Chapter 1. Use a combination of for and if statements to loop over the tokens of text2 and print all the distinct numbers, one per line."
   ]
  },
  {
   "cell_type": "code",
   "execution_count": 100,
   "metadata": {},
   "outputs": [
    {
     "data": {
      "text/plain": [
       "['1',\n",
       " '10',\n",
       " '11',\n",
       " '12',\n",
       " '13',\n",
       " '14',\n",
       " '15',\n",
       " '16',\n",
       " '17',\n",
       " '18',\n",
       " '1811',\n",
       " '19',\n",
       " '2',\n",
       " '20',\n",
       " '200',\n",
       " '21',\n",
       " '22',\n",
       " '23',\n",
       " '24',\n",
       " '25',\n",
       " '26',\n",
       " '27',\n",
       " '28',\n",
       " '29',\n",
       " '3',\n",
       " '30',\n",
       " '31',\n",
       " '32',\n",
       " '33',\n",
       " '34',\n",
       " '35',\n",
       " '36',\n",
       " '37',\n",
       " '38',\n",
       " '39',\n",
       " '4',\n",
       " '40',\n",
       " '41',\n",
       " '42',\n",
       " '43',\n",
       " '44',\n",
       " '45',\n",
       " '46',\n",
       " '47',\n",
       " '48',\n",
       " '49',\n",
       " '5',\n",
       " '50',\n",
       " '6',\n",
       " '7',\n",
       " '8',\n",
       " '9']"
      ]
     },
     "execution_count": 100,
     "metadata": {},
     "output_type": "execute_result"
    }
   ],
   "source": [
    "sorted([t for t in set(text2) if t.isdigit()])"
   ]
  },
  {
   "cell_type": "markdown",
   "metadata": {},
   "source": [
    "### Chapter 2"
   ]
  },
  {
   "cell_type": "markdown",
   "metadata": {},
   "source": [
    "#### Question 2.1 Use Gutenberg Corpus Module to explore 'shakespeare-caesar.txt'.a. How many word tokens does this book have? b.How many word types? c. What is the lexical richness?"
   ]
  },
  {
   "cell_type": "code",
   "execution_count": 101,
   "metadata": {},
   "outputs": [
    {
     "name": "stdout",
     "output_type": "stream",
     "text": [
      "a. Word Tokens:25833\n",
      "b. Word Types:3560\n",
      "c. Lexical Richness:0.138\n"
     ]
    }
   ],
   "source": [
    "caesar = nltk.corpus.gutenberg.words(\"shakespeare-caesar.txt\")\n",
    "print (f\"a. Word Tokens:{len(caesar)}\")\n",
    "print (f\"b. Word Types:{len(set(caesar))}\")\n",
    "print (f\"c. Lexical Richness:{len(set(caesar))/len(caesar):.3f}\")"
   ]
  },
  {
   "cell_type": "markdown",
   "metadata": {},
   "source": [
    "#### Question 2.2 Explore the Section \"Hobbies\" in Brown Corpus. Count the number of all \"wh-\" words (words starting with \"wh\").  Please make sure we are not double-counting words like “What” and “what”, which differ only in capitalization."
   ]
  },
  {
   "cell_type": "code",
   "execution_count": 102,
   "metadata": {},
   "outputs": [],
   "source": [
    "from nltk.corpus import brown"
   ]
  },
  {
   "cell_type": "code",
   "execution_count": 103,
   "metadata": {},
   "outputs": [],
   "source": [
    "hobbies_text = brown.words(categories = 'hobbies')"
   ]
  },
  {
   "cell_type": "code",
   "execution_count": 104,
   "metadata": {},
   "outputs": [],
   "source": [
    "wh_fdist = nltk.FreqDist(w.lower() for w in hobbies_text if w.lower().startswith('wh'))"
   ]
  },
  {
   "cell_type": "markdown",
   "metadata": {},
   "source": [
    "### I am using wh_fdist.most_common() here so that the results are printed each on a new line and you can see all of them. I could also just print out the frequency distribution but that would not list all results."
   ]
  },
  {
   "cell_type": "code",
   "execution_count": 105,
   "metadata": {},
   "outputs": [
    {
     "data": {
      "text/plain": [
       "[('which', 253),\n",
       " ('when', 164),\n",
       " ('what', 108),\n",
       " ('who', 104),\n",
       " ('where', 77),\n",
       " ('while', 38),\n",
       " ('whole', 20),\n",
       " ('why', 17),\n",
       " ('white', 15),\n",
       " ('whose', 14),\n",
       " ('whether', 14),\n",
       " ('whatever', 6),\n",
       " ('wheel', 4),\n",
       " ('wheels', 3),\n",
       " ('wherever', 3),\n",
       " ('whenever', 2),\n",
       " ('whom', 2),\n",
       " ('wheeled', 2),\n",
       " ('whitetail', 2),\n",
       " ('whipped', 2),\n",
       " ('wholly', 2),\n",
       " ('whereas', 2),\n",
       " ('whaddya', 1),\n",
       " ('wholesale', 1),\n",
       " ('wherein', 1),\n",
       " ('whippet', 1),\n",
       " ('whiskey', 1),\n",
       " ('whips', 1),\n",
       " ('whip', 1),\n",
       " ('whaling', 1),\n",
       " ('whirlwind', 1),\n",
       " ('whole-house', 1),\n",
       " (\"what's\", 1),\n",
       " ('whereby', 1)]"
      ]
     },
     "execution_count": 105,
     "metadata": {},
     "output_type": "execute_result"
    }
   ],
   "source": [
    "wh_fdist.most_common()"
   ]
  },
  {
   "cell_type": "markdown",
   "metadata": {},
   "source": [
    "#### Question 2.3 Explore movie reviews corpus which contains 2k movie reviews with sentiment polarity classification (positive or negative reviews). Please find out the 20 most common words in the negative reviews and positive reviews separately,please get rid of stop words, number and punctuations from reviews. Please make sure we are not double-counting words like “This” and “this”, which differ only in capitalization. \n",
    "#### Hint:\n",
    "#### from nltk.corpus import movie_reviews\n",
    "#### from nltk.corpus import stopwords"
   ]
  },
  {
   "cell_type": "code",
   "execution_count": 4,
   "metadata": {},
   "outputs": [],
   "source": [
    "from nltk.corpus import movie_reviews\n",
    "from nltk.corpus import stopwords\n",
    "from nltk import FreqDist"
   ]
  },
  {
   "cell_type": "code",
   "execution_count": 107,
   "metadata": {
    "scrolled": false
   },
   "outputs": [],
   "source": [
    "stopwords = nltk.corpus.stopwords.words('english')\n",
    "negative_reviews = movie_reviews.words(categories = 'neg')\n",
    "positive_reviews = movie_reviews.words(categories = 'pos')"
   ]
  },
  {
   "cell_type": "code",
   "execution_count": 108,
   "metadata": {},
   "outputs": [
    {
     "data": {
      "text/plain": [
       "[('film', 4287),\n",
       " ('movie', 3246),\n",
       " ('one', 2800),\n",
       " ('like', 1888),\n",
       " ('even', 1386),\n",
       " ('time', 1168),\n",
       " ('good', 1163),\n",
       " ('would', 1090),\n",
       " ('get', 1052),\n",
       " ('bad', 1034),\n",
       " ('much', 1011),\n",
       " ('character', 942),\n",
       " ('story', 923),\n",
       " ('plot', 917),\n",
       " ('two', 912),\n",
       " ('characters', 873),\n",
       " ('make', 851),\n",
       " ('first', 832),\n",
       " ('could', 791),\n",
       " ('see', 784)]"
      ]
     },
     "execution_count": 108,
     "metadata": {},
     "output_type": "execute_result"
    }
   ],
   "source": [
    "neg_words = FreqDist([w for w in negative_reviews if (w.lower() not in stopwords and w.isalpha())])\n",
    "neg_words.most_common(20)"
   ]
  },
  {
   "cell_type": "code",
   "execution_count": 109,
   "metadata": {},
   "outputs": [
    {
     "data": {
      "text/plain": [
       "[('film', 5230),\n",
       " ('one', 3052),\n",
       " ('movie', 2525),\n",
       " ('like', 1802),\n",
       " ('good', 1248),\n",
       " ('story', 1246),\n",
       " ('time', 1243),\n",
       " ('also', 1200),\n",
       " ('even', 1179),\n",
       " ('well', 1123),\n",
       " ('character', 1078),\n",
       " ('life', 1057),\n",
       " ('much', 1038),\n",
       " ('would', 1019),\n",
       " ('first', 1004),\n",
       " ('two', 999),\n",
       " ('characters', 986),\n",
       " ('see', 965),\n",
       " ('way', 929),\n",
       " ('get', 897)]"
      ]
     },
     "execution_count": 109,
     "metadata": {},
     "output_type": "execute_result"
    }
   ],
   "source": [
    "pos_words = FreqDist([w for w in positive_reviews if (w.lower() not in stopwords and w.isalpha())])\n",
    "pos_words.most_common(20)"
   ]
  },
  {
   "cell_type": "markdown",
   "metadata": {},
   "source": [
    "#### Question 2.4 Explore Names Corpus, which initial letters are more frequent for males vs. females? ((Hint: Plot of a Conditional Frequency Distribution will be useful for answering this question)"
   ]
  },
  {
   "cell_type": "code",
   "execution_count": 91,
   "metadata": {
    "scrolled": true
   },
   "outputs": [
    {
     "data": {
      "image/png": "[encoded data removed]",
      "text/plain": [
       "<Figure size 432x288 with 1 Axes>"
      ]
     },
     "metadata": {
      "needs_background": "light"
     },
     "output_type": "display_data"
    },
    {
     "data": {
      "text/plain": [
       "<AxesSubplot:xlabel='Samples', ylabel='Counts'>"
      ]
     },
     "execution_count": 91,
     "metadata": {},
     "output_type": "execute_result"
    }
   ],
   "source": [
    "names = nltk.corpus.names\n",
    "cfd = nltk.ConditionalFreqDist(\n",
    " (fileid, name[0])\n",
    " for fileid in names.fileids()\n",
    " for name in names.words(fileid))\n",
    "cfd.plot()"
   ]
  },
  {
   "cell_type": "markdown",
   "metadata": {},
   "source": [
    "#### The above plot shows which genders have the most common initial letters. Most female names start with C as well as the middle letters like J, K, L, and many for M. For males it is more spread it with many starting with W, S, and M as well. It looks like from the graph, M and S are popular across genders."
   ]
  },
  {
   "cell_type": "markdown",
   "metadata": {},
   "source": [
    "#### Question 2.5 Use the Gutenberg Corpus module to explore austen-persuasion.txt. Write a function to find out the 20 most frequent occurring words of this text file that are not stopwords.Please get rid of numbers and punctuations. Please make sure we are not double-counting words like “This” and “this”, which differ only in capitalization.   "
   ]
  },
  {
   "cell_type": "code",
   "execution_count": 5,
   "metadata": {},
   "outputs": [
    {
     "data": {
      "text/plain": [
       "[('anne', 497),\n",
       " ('could', 451),\n",
       " ('would', 355),\n",
       " ('captain', 303),\n",
       " ('mrs', 291),\n",
       " ('elliot', 289),\n",
       " ('mr', 256),\n",
       " ('one', 238),\n",
       " ('must', 228),\n",
       " ('wentworth', 218),\n",
       " ('lady', 216),\n",
       " ('much', 205),\n",
       " ('good', 187),\n",
       " ('little', 176),\n",
       " ('said', 173),\n",
       " ('charles', 166),\n",
       " ('might', 166),\n",
       " ('well', 163),\n",
       " ('never', 155),\n",
       " ('time', 152)]"
      ]
     },
     "execution_count": 5,
     "metadata": {},
     "output_type": "execute_result"
    }
   ],
   "source": [
    "def most_frequent(text):\n",
    "    stopwords = nltk.corpus.stopwords.words('english')\n",
    "    fdist = FreqDist([w.lower() for w in text if w.lower() not in stopwords and w.isalpha()])\n",
    "    most_freq = fdist.most_common(20)\n",
    "    return most_freq\n",
    "\n",
    "most_frequent(nltk.corpus.gutenberg.words('austen-persuasion.txt'))"
   ]
  },
  {
   "cell_type": "markdown",
   "metadata": {},
   "source": [
    "#### Question 2.6 Use one of the path similarity measures to score the similarity of each of the following pairs of words. Rank the pairs in order of decreasing similarity: car-automobile,  journey-voyage, boy-lad, coast-shore,  midday-noon, furnace-stove, food-fruit, bird-cock, bird-crane, tool-implement,   journey-car,  cemetery-woodland, food-rooster, coast-hill, forest-graveyard, shore-woodland, coast-forest, lad-wizard, chord-smile, glass-magician, noon-string."
   ]
  },
  {
   "cell_type": "code",
   "execution_count": 93,
   "metadata": {},
   "outputs": [
    {
     "name": "stdout",
     "output_type": "stream",
     "text": [
      "car-automobile 1.0\n",
      "midday-noon 1.0\n",
      "coast-shore 0.5\n",
      "tool-implement 0.5\n",
      "boy-lad 0.333\n",
      "journey-voyage 0.25\n",
      "coast-hill 0.2\n",
      "shore-woodland 0.2\n",
      "lad-wizard 0.2\n",
      "bird-crane 0.111\n",
      "cemetery-woodland 0.111\n",
      "glass-magician 0.111\n",
      "food-fruit 0.091\n",
      "coast-forest 0.091\n",
      "chord-smile 0.091\n",
      "furnace-stove 0.077\n",
      "forest-graveyard 0.071\n",
      "bird-cock 0.062\n",
      "food-rooster 0.062\n",
      "noon-string 0.059\n",
      "journey-car 0.05\n"
     ]
    }
   ],
   "source": [
    "from nltk.corpus import wordnet as wn\n",
    "pairs = [('car', 'automobile'),('journey', 'voyage'),\n",
    "         ('boy', 'lad'),('coast', 'shore'),\n",
    "         ('midday', 'noon'),('furnace', 'stove'),\n",
    "         ('food', 'fruit'),('bird', 'cock'),\n",
    "         ('bird', 'crane'),('tool', 'implement'),\n",
    "         ('journey', 'car'),('cemetery', 'woodland'),\n",
    "         ('food', 'rooster'),('coast', 'hill'),\n",
    "         ('forest', 'graveyard'),('shore', 'woodland'),\n",
    "         ('coast', 'forest'),('lad', 'wizard'),\n",
    "         ('chord', 'smile'),('glass', 'magician'),\n",
    "         ('noon', 'string')]\n",
    "\n",
    "def similarity(pairs):\n",
    "    word_dict = {}\n",
    "    for word1, word2 in pairs:\n",
    "        synset1 = wn.synset(word1 + '.n.01')\n",
    "        synset2 = wn.synset(word2 + '.n.01')\n",
    "        similarity = synset1.path_similarity(synset2)\n",
    "        similarity_rounded = round(similarity,3)\n",
    "        word_dict[word1 + '-' + word2] = similarity_rounded\n",
    "        word_list = sorted(word_dict.items(), key=lambda item:item[1], reverse = True)\n",
    "        sorted_word_dict = dict(word_list)\n",
    "    for k in sorted_word_dict:\n",
    "        print(k, sorted_word_dict[k])\n",
    "\n",
    "        \n",
    "\n",
    "similarity(pairs)"
   ]
  }
 ],
 "metadata": {
  "kernelspec": {
   "display_name": "Python 3",
   "language": "python",
   "name": "python3"
  },
  "language_info": {
   "codemirror_mode": {
    "name": "ipython",
    "version": 3
   },
   "file_extension": ".py",
   "mimetype": "text/x-python",
   "name": "python",
   "nbconvert_exporter": "python",
   "pygments_lexer": "ipython3",
   "version": "3.8.5"
  }
 },
 "nbformat": 4,
 "nbformat_minor": 2
}
